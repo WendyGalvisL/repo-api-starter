{
  "nbformat": 4,
  "nbformat_minor": 0,
  "metadata": {
    "colab": {
      "provenance": [],
      "authorship_tag": "ABX9TyMl5Ooy4O1GrthcnmLCwAik",
      "include_colab_link": true
    },
    "kernelspec": {
      "name": "python3",
      "display_name": "Python 3"
    },
    "language_info": {
      "name": "python"
    }
  },
  "cells": [
    {
      "cell_type": "markdown",
      "metadata": {
        "id": "view-in-github",
        "colab_type": "text"
      },
      "source": [
        "<a href=\"https://colab.research.google.com/github/WendyGalvisL/repo-api-starter/blob/master/Prueba_2.ipynb\" target=\"_parent\"><img src=\"https://colab.research.google.com/assets/colab-badge.svg\" alt=\"Open In Colab\"/></a>"
      ]
    },
    {
      "cell_type": "markdown",
      "source": [
        "# Importar librerías"
      ],
      "metadata": {
        "id": "XCNIQdVcb3tJ"
      }
    },
    {
      "cell_type": "code",
      "execution_count": null,
      "metadata": {
        "id": "mWn9Zq7abcyf"
      },
      "outputs": [],
      "source": [
        "import warnings\n",
        "\n",
        "# Suppress all warnings\n",
        "warnings.filterwarnings('ignore')\n",
        "\n",
        "import pandas as pd\n",
        "import numpy as np\n",
        "import matplotlib.pyplot as plt\n",
        "import seaborn as sns\n",
        "\n",
        "from collections import Counter\n",
        "\n",
        "from sklearn.decomposition import PCA\n",
        "from sklearn.preprocessing import StandardScaler\n",
        "from sklearn.model_selection import RandomizedSearchCV, GridSearchCV, train_test_split\n",
        "from sklearn.metrics import confusion_matrix, roc_auc_score, roc_curve, classification_report, ConfusionMatrixDisplay\n",
        "from sklearn.linear_model import LogisticRegression\n",
        "from sklearn.tree import DecisionTreeClassifier\n",
        "from sklearn.neural_network import MLPClassifier\n",
        "\n",
        "from imblearn.over_sampling import SMOTE"
      ]
    },
    {
      "cell_type": "markdown",
      "source": [
        "# Cargar datos"
      ],
      "metadata": {
        "id": "GNsUwV7hb0g2"
      }
    },
    {
      "cell_type": "code",
      "source": [
        "df = pd.read_csv('train_data.csv')\n",
        "df.head()"
      ],
      "metadata": {
        "colab": {
          "base_uri": "https://localhost:8080/",
          "height": 255
        },
        "id": "Lzpj6-pqb2OG",
        "outputId": "3af46913-0df1-4f4e-b39c-c165bade2fa5"
      },
      "execution_count": null,
      "outputs": [
        {
          "output_type": "execute_result",
          "data": {
            "text/plain": [
              "   ID  Bankruptcy  Realized.Sales.Gross.Profit.Growth.Rate  \\\n",
              "0   1           0                                 0.087661   \n",
              "1   2           0                                 0.021892   \n",
              "2   3           0                                 0.102249   \n",
              "3   4           0                                 0.029972   \n",
              "4   6           0                                 0.021164   \n",
              "\n",
              "   Operating.Expense.Rate  Operating.Profit.Per.Share..Yuan...  \\\n",
              "0            1.900349e-04                             0.131094   \n",
              "1            5.371576e-04                             0.086167   \n",
              "2            2.178329e-04                             0.157755   \n",
              "3            4.915756e+10                             0.249279   \n",
              "4            1.206001e-04                             0.239817   \n",
              "\n",
              "   Gross.Profit.to.Sales  Tax.rate..A.  Current.Liability.to.Liability  \\\n",
              "0               0.583345      0.000000                        0.815892   \n",
              "1               0.695478      0.209649                        0.768636   \n",
              "2               0.766934      0.272061                        0.643316   \n",
              "3               0.611580      0.288357                        0.752782   \n",
              "4               0.614250      0.000000                        0.559498   \n",
              "\n",
              "   Continuous.Net.Profit.Growth.Rate  Long.term.Liability.to.Current.Assets  \\\n",
              "0                           0.395719                               0.089276   \n",
              "1                           0.163505                               0.000000   \n",
              "2                           0.181571                               0.010180   \n",
              "3                           0.409196                               0.018603   \n",
              "4                           0.286989                               0.148687   \n",
              "\n",
              "   ...  Per.Share.Net.profit.before.tax..Yuan...  \\\n",
              "0  ...                                  0.223720   \n",
              "1  ...                                  0.324763   \n",
              "2  ...                                  0.360892   \n",
              "3  ...                                  0.152445   \n",
              "4  ...                                  0.217282   \n",
              "\n",
              "   Continuous.interest.rate..after.tax.  Liability.Assets.Flag  \\\n",
              "0                              0.801737                      0   \n",
              "1                              0.791203                      0   \n",
              "2                              0.803126                      0   \n",
              "3                              0.824732                      0   \n",
              "4                              0.787010                      0   \n",
              "\n",
              "   Working.Capital.to.Total.Assets  Degree.of.Financial.Leverage..DFL.  \\\n",
              "0                         0.839112                            0.036551   \n",
              "1                         0.908450                            0.126752   \n",
              "2                         0.865943                            0.018152   \n",
              "3                         0.806254                            0.051284   \n",
              "4                         0.769843                            0.012872   \n",
              "\n",
              "   Operating.Gross.Margin  Contingent.liabilities.Net.worth  \\\n",
              "0                0.591350                          0.007401   \n",
              "1                0.766066                          0.020514   \n",
              "2                0.687211                          0.004363   \n",
              "3                0.715973                          0.014162   \n",
              "4                0.704043                          0.003050   \n",
              "\n",
              "   Operating.Profit.Growth.Rate  Cash.Flow.to.Liability  \\\n",
              "0                      0.913175                0.489822   \n",
              "1                      0.849241                0.550247   \n",
              "2                      0.865814                0.447168   \n",
              "3                      0.843357                0.485163   \n",
              "4                      0.884905                0.422001   \n",
              "\n",
              "   Quick.Assets.Total.Assets  \n",
              "0                   0.138714  \n",
              "1                   0.704211  \n",
              "2                   0.398086  \n",
              "3                   0.617386  \n",
              "4                   0.187121  \n",
              "\n",
              "[5 rows x 65 columns]"
            ],
            "text/html": [
              "\n",
              "  <div id=\"df-6e987207-c34c-4764-9965-9f5c4c26cc0d\" class=\"colab-df-container\">\n",
              "    <div>\n",
              "<style scoped>\n",
              "    .dataframe tbody tr th:only-of-type {\n",
              "        vertical-align: middle;\n",
              "    }\n",
              "\n",
              "    .dataframe tbody tr th {\n",
              "        vertical-align: top;\n",
              "    }\n",
              "\n",
              "    .dataframe thead th {\n",
              "        text-align: right;\n",
              "    }\n",
              "</style>\n",
              "<table border=\"1\" class=\"dataframe\">\n",
              "  <thead>\n",
              "    <tr style=\"text-align: right;\">\n",
              "      <th></th>\n",
              "      <th>ID</th>\n",
              "      <th>Bankruptcy</th>\n",
              "      <th>Realized.Sales.Gross.Profit.Growth.Rate</th>\n",
              "      <th>Operating.Expense.Rate</th>\n",
              "      <th>Operating.Profit.Per.Share..Yuan...</th>\n",
              "      <th>Gross.Profit.to.Sales</th>\n",
              "      <th>Tax.rate..A.</th>\n",
              "      <th>Current.Liability.to.Liability</th>\n",
              "      <th>Continuous.Net.Profit.Growth.Rate</th>\n",
              "      <th>Long.term.Liability.to.Current.Assets</th>\n",
              "      <th>...</th>\n",
              "      <th>Per.Share.Net.profit.before.tax..Yuan...</th>\n",
              "      <th>Continuous.interest.rate..after.tax.</th>\n",
              "      <th>Liability.Assets.Flag</th>\n",
              "      <th>Working.Capital.to.Total.Assets</th>\n",
              "      <th>Degree.of.Financial.Leverage..DFL.</th>\n",
              "      <th>Operating.Gross.Margin</th>\n",
              "      <th>Contingent.liabilities.Net.worth</th>\n",
              "      <th>Operating.Profit.Growth.Rate</th>\n",
              "      <th>Cash.Flow.to.Liability</th>\n",
              "      <th>Quick.Assets.Total.Assets</th>\n",
              "    </tr>\n",
              "  </thead>\n",
              "  <tbody>\n",
              "    <tr>\n",
              "      <th>0</th>\n",
              "      <td>1</td>\n",
              "      <td>0</td>\n",
              "      <td>0.087661</td>\n",
              "      <td>1.900349e-04</td>\n",
              "      <td>0.131094</td>\n",
              "      <td>0.583345</td>\n",
              "      <td>0.000000</td>\n",
              "      <td>0.815892</td>\n",
              "      <td>0.395719</td>\n",
              "      <td>0.089276</td>\n",
              "      <td>...</td>\n",
              "      <td>0.223720</td>\n",
              "      <td>0.801737</td>\n",
              "      <td>0</td>\n",
              "      <td>0.839112</td>\n",
              "      <td>0.036551</td>\n",
              "      <td>0.591350</td>\n",
              "      <td>0.007401</td>\n",
              "      <td>0.913175</td>\n",
              "      <td>0.489822</td>\n",
              "      <td>0.138714</td>\n",
              "    </tr>\n",
              "    <tr>\n",
              "      <th>1</th>\n",
              "      <td>2</td>\n",
              "      <td>0</td>\n",
              "      <td>0.021892</td>\n",
              "      <td>5.371576e-04</td>\n",
              "      <td>0.086167</td>\n",
              "      <td>0.695478</td>\n",
              "      <td>0.209649</td>\n",
              "      <td>0.768636</td>\n",
              "      <td>0.163505</td>\n",
              "      <td>0.000000</td>\n",
              "      <td>...</td>\n",
              "      <td>0.324763</td>\n",
              "      <td>0.791203</td>\n",
              "      <td>0</td>\n",
              "      <td>0.908450</td>\n",
              "      <td>0.126752</td>\n",
              "      <td>0.766066</td>\n",
              "      <td>0.020514</td>\n",
              "      <td>0.849241</td>\n",
              "      <td>0.550247</td>\n",
              "      <td>0.704211</td>\n",
              "    </tr>\n",
              "    <tr>\n",
              "      <th>2</th>\n",
              "      <td>3</td>\n",
              "      <td>0</td>\n",
              "      <td>0.102249</td>\n",
              "      <td>2.178329e-04</td>\n",
              "      <td>0.157755</td>\n",
              "      <td>0.766934</td>\n",
              "      <td>0.272061</td>\n",
              "      <td>0.643316</td>\n",
              "      <td>0.181571</td>\n",
              "      <td>0.010180</td>\n",
              "      <td>...</td>\n",
              "      <td>0.360892</td>\n",
              "      <td>0.803126</td>\n",
              "      <td>0</td>\n",
              "      <td>0.865943</td>\n",
              "      <td>0.018152</td>\n",
              "      <td>0.687211</td>\n",
              "      <td>0.004363</td>\n",
              "      <td>0.865814</td>\n",
              "      <td>0.447168</td>\n",
              "      <td>0.398086</td>\n",
              "    </tr>\n",
              "    <tr>\n",
              "      <th>3</th>\n",
              "      <td>4</td>\n",
              "      <td>0</td>\n",
              "      <td>0.029972</td>\n",
              "      <td>4.915756e+10</td>\n",
              "      <td>0.249279</td>\n",
              "      <td>0.611580</td>\n",
              "      <td>0.288357</td>\n",
              "      <td>0.752782</td>\n",
              "      <td>0.409196</td>\n",
              "      <td>0.018603</td>\n",
              "      <td>...</td>\n",
              "      <td>0.152445</td>\n",
              "      <td>0.824732</td>\n",
              "      <td>0</td>\n",
              "      <td>0.806254</td>\n",
              "      <td>0.051284</td>\n",
              "      <td>0.715973</td>\n",
              "      <td>0.014162</td>\n",
              "      <td>0.843357</td>\n",
              "      <td>0.485163</td>\n",
              "      <td>0.617386</td>\n",
              "    </tr>\n",
              "    <tr>\n",
              "      <th>4</th>\n",
              "      <td>6</td>\n",
              "      <td>0</td>\n",
              "      <td>0.021164</td>\n",
              "      <td>1.206001e-04</td>\n",
              "      <td>0.239817</td>\n",
              "      <td>0.614250</td>\n",
              "      <td>0.000000</td>\n",
              "      <td>0.559498</td>\n",
              "      <td>0.286989</td>\n",
              "      <td>0.148687</td>\n",
              "      <td>...</td>\n",
              "      <td>0.217282</td>\n",
              "      <td>0.787010</td>\n",
              "      <td>0</td>\n",
              "      <td>0.769843</td>\n",
              "      <td>0.012872</td>\n",
              "      <td>0.704043</td>\n",
              "      <td>0.003050</td>\n",
              "      <td>0.884905</td>\n",
              "      <td>0.422001</td>\n",
              "      <td>0.187121</td>\n",
              "    </tr>\n",
              "  </tbody>\n",
              "</table>\n",
              "<p>5 rows × 65 columns</p>\n",
              "</div>\n",
              "    <div class=\"colab-df-buttons\">\n",
              "\n",
              "  <div class=\"colab-df-container\">\n",
              "    <button class=\"colab-df-convert\" onclick=\"convertToInteractive('df-6e987207-c34c-4764-9965-9f5c4c26cc0d')\"\n",
              "            title=\"Convert this dataframe to an interactive table.\"\n",
              "            style=\"display:none;\">\n",
              "\n",
              "  <svg xmlns=\"http://www.w3.org/2000/svg\" height=\"24px\" viewBox=\"0 -960 960 960\">\n",
              "    <path d=\"M120-120v-720h720v720H120Zm60-500h600v-160H180v160Zm220 220h160v-160H400v160Zm0 220h160v-160H400v160ZM180-400h160v-160H180v160Zm440 0h160v-160H620v160ZM180-180h160v-160H180v160Zm440 0h160v-160H620v160Z\"/>\n",
              "  </svg>\n",
              "    </button>\n",
              "\n",
              "  <style>\n",
              "    .colab-df-container {\n",
              "      display:flex;\n",
              "      gap: 12px;\n",
              "    }\n",
              "\n",
              "    .colab-df-convert {\n",
              "      background-color: #E8F0FE;\n",
              "      border: none;\n",
              "      border-radius: 50%;\n",
              "      cursor: pointer;\n",
              "      display: none;\n",
              "      fill: #1967D2;\n",
              "      height: 32px;\n",
              "      padding: 0 0 0 0;\n",
              "      width: 32px;\n",
              "    }\n",
              "\n",
              "    .colab-df-convert:hover {\n",
              "      background-color: #E2EBFA;\n",
              "      box-shadow: 0px 1px 2px rgba(60, 64, 67, 0.3), 0px 1px 3px 1px rgba(60, 64, 67, 0.15);\n",
              "      fill: #174EA6;\n",
              "    }\n",
              "\n",
              "    .colab-df-buttons div {\n",
              "      margin-bottom: 4px;\n",
              "    }\n",
              "\n",
              "    [theme=dark] .colab-df-convert {\n",
              "      background-color: #3B4455;\n",
              "      fill: #D2E3FC;\n",
              "    }\n",
              "\n",
              "    [theme=dark] .colab-df-convert:hover {\n",
              "      background-color: #434B5C;\n",
              "      box-shadow: 0px 1px 3px 1px rgba(0, 0, 0, 0.15);\n",
              "      filter: drop-shadow(0px 1px 2px rgba(0, 0, 0, 0.3));\n",
              "      fill: #FFFFFF;\n",
              "    }\n",
              "  </style>\n",
              "\n",
              "    <script>\n",
              "      const buttonEl =\n",
              "        document.querySelector('#df-6e987207-c34c-4764-9965-9f5c4c26cc0d button.colab-df-convert');\n",
              "      buttonEl.style.display =\n",
              "        google.colab.kernel.accessAllowed ? 'block' : 'none';\n",
              "\n",
              "      async function convertToInteractive(key) {\n",
              "        const element = document.querySelector('#df-6e987207-c34c-4764-9965-9f5c4c26cc0d');\n",
              "        const dataTable =\n",
              "          await google.colab.kernel.invokeFunction('convertToInteractive',\n",
              "                                                    [key], {});\n",
              "        if (!dataTable) return;\n",
              "\n",
              "        const docLinkHtml = 'Like what you see? Visit the ' +\n",
              "          '<a target=\"_blank\" href=https://colab.research.google.com/notebooks/data_table.ipynb>data table notebook</a>'\n",
              "          + ' to learn more about interactive tables.';\n",
              "        element.innerHTML = '';\n",
              "        dataTable['output_type'] = 'display_data';\n",
              "        await google.colab.output.renderOutput(dataTable, element);\n",
              "        const docLink = document.createElement('div');\n",
              "        docLink.innerHTML = docLinkHtml;\n",
              "        element.appendChild(docLink);\n",
              "      }\n",
              "    </script>\n",
              "  </div>\n",
              "\n",
              "\n",
              "<div id=\"df-31fd0459-5acc-4f1c-9fe5-7788d9717f8a\">\n",
              "  <button class=\"colab-df-quickchart\" onclick=\"quickchart('df-31fd0459-5acc-4f1c-9fe5-7788d9717f8a')\"\n",
              "            title=\"Suggest charts\"\n",
              "            style=\"display:none;\">\n",
              "\n",
              "<svg xmlns=\"http://www.w3.org/2000/svg\" height=\"24px\"viewBox=\"0 0 24 24\"\n",
              "     width=\"24px\">\n",
              "    <g>\n",
              "        <path d=\"M19 3H5c-1.1 0-2 .9-2 2v14c0 1.1.9 2 2 2h14c1.1 0 2-.9 2-2V5c0-1.1-.9-2-2-2zM9 17H7v-7h2v7zm4 0h-2V7h2v10zm4 0h-2v-4h2v4z\"/>\n",
              "    </g>\n",
              "</svg>\n",
              "  </button>\n",
              "\n",
              "<style>\n",
              "  .colab-df-quickchart {\n",
              "      --bg-color: #E8F0FE;\n",
              "      --fill-color: #1967D2;\n",
              "      --hover-bg-color: #E2EBFA;\n",
              "      --hover-fill-color: #174EA6;\n",
              "      --disabled-fill-color: #AAA;\n",
              "      --disabled-bg-color: #DDD;\n",
              "  }\n",
              "\n",
              "  [theme=dark] .colab-df-quickchart {\n",
              "      --bg-color: #3B4455;\n",
              "      --fill-color: #D2E3FC;\n",
              "      --hover-bg-color: #434B5C;\n",
              "      --hover-fill-color: #FFFFFF;\n",
              "      --disabled-bg-color: #3B4455;\n",
              "      --disabled-fill-color: #666;\n",
              "  }\n",
              "\n",
              "  .colab-df-quickchart {\n",
              "    background-color: var(--bg-color);\n",
              "    border: none;\n",
              "    border-radius: 50%;\n",
              "    cursor: pointer;\n",
              "    display: none;\n",
              "    fill: var(--fill-color);\n",
              "    height: 32px;\n",
              "    padding: 0;\n",
              "    width: 32px;\n",
              "  }\n",
              "\n",
              "  .colab-df-quickchart:hover {\n",
              "    background-color: var(--hover-bg-color);\n",
              "    box-shadow: 0 1px 2px rgba(60, 64, 67, 0.3), 0 1px 3px 1px rgba(60, 64, 67, 0.15);\n",
              "    fill: var(--button-hover-fill-color);\n",
              "  }\n",
              "\n",
              "  .colab-df-quickchart-complete:disabled,\n",
              "  .colab-df-quickchart-complete:disabled:hover {\n",
              "    background-color: var(--disabled-bg-color);\n",
              "    fill: var(--disabled-fill-color);\n",
              "    box-shadow: none;\n",
              "  }\n",
              "\n",
              "  .colab-df-spinner {\n",
              "    border: 2px solid var(--fill-color);\n",
              "    border-color: transparent;\n",
              "    border-bottom-color: var(--fill-color);\n",
              "    animation:\n",
              "      spin 1s steps(1) infinite;\n",
              "  }\n",
              "\n",
              "  @keyframes spin {\n",
              "    0% {\n",
              "      border-color: transparent;\n",
              "      border-bottom-color: var(--fill-color);\n",
              "      border-left-color: var(--fill-color);\n",
              "    }\n",
              "    20% {\n",
              "      border-color: transparent;\n",
              "      border-left-color: var(--fill-color);\n",
              "      border-top-color: var(--fill-color);\n",
              "    }\n",
              "    30% {\n",
              "      border-color: transparent;\n",
              "      border-left-color: var(--fill-color);\n",
              "      border-top-color: var(--fill-color);\n",
              "      border-right-color: var(--fill-color);\n",
              "    }\n",
              "    40% {\n",
              "      border-color: transparent;\n",
              "      border-right-color: var(--fill-color);\n",
              "      border-top-color: var(--fill-color);\n",
              "    }\n",
              "    60% {\n",
              "      border-color: transparent;\n",
              "      border-right-color: var(--fill-color);\n",
              "    }\n",
              "    80% {\n",
              "      border-color: transparent;\n",
              "      border-right-color: var(--fill-color);\n",
              "      border-bottom-color: var(--fill-color);\n",
              "    }\n",
              "    90% {\n",
              "      border-color: transparent;\n",
              "      border-bottom-color: var(--fill-color);\n",
              "    }\n",
              "  }\n",
              "</style>\n",
              "\n",
              "  <script>\n",
              "    async function quickchart(key) {\n",
              "      const quickchartButtonEl =\n",
              "        document.querySelector('#' + key + ' button');\n",
              "      quickchartButtonEl.disabled = true;  // To prevent multiple clicks.\n",
              "      quickchartButtonEl.classList.add('colab-df-spinner');\n",
              "      try {\n",
              "        const charts = await google.colab.kernel.invokeFunction(\n",
              "            'suggestCharts', [key], {});\n",
              "      } catch (error) {\n",
              "        console.error('Error during call to suggestCharts:', error);\n",
              "      }\n",
              "      quickchartButtonEl.classList.remove('colab-df-spinner');\n",
              "      quickchartButtonEl.classList.add('colab-df-quickchart-complete');\n",
              "    }\n",
              "    (() => {\n",
              "      let quickchartButtonEl =\n",
              "        document.querySelector('#df-31fd0459-5acc-4f1c-9fe5-7788d9717f8a button');\n",
              "      quickchartButtonEl.style.display =\n",
              "        google.colab.kernel.accessAllowed ? 'block' : 'none';\n",
              "    })();\n",
              "  </script>\n",
              "</div>\n",
              "\n",
              "    </div>\n",
              "  </div>\n"
            ],
            "application/vnd.google.colaboratory.intrinsic+json": {
              "type": "dataframe",
              "variable_name": "df"
            }
          },
          "metadata": {},
          "execution_count": 2
        }
      ]
    },
    {
      "cell_type": "code",
      "source": [
        "df.shape"
      ],
      "metadata": {
        "colab": {
          "base_uri": "https://localhost:8080/"
        },
        "id": "OnXD0dEub_Ua",
        "outputId": "51c53c54-1ac6-493c-a556-ea9eeb36c9f4"
      },
      "execution_count": null,
      "outputs": [
        {
          "output_type": "execute_result",
          "data": {
            "text/plain": [
              "(2050, 65)"
            ]
          },
          "metadata": {},
          "execution_count": 3
        }
      ]
    },
    {
      "cell_type": "code",
      "source": [
        "# Eliminar columna ID\n",
        "df = df.drop(columns='ID')"
      ],
      "metadata": {
        "id": "VdRuT1oWpZFL"
      },
      "execution_count": null,
      "outputs": []
    },
    {
      "cell_type": "markdown",
      "source": [
        "# Explorar datos"
      ],
      "metadata": {
        "id": "QgEMt_3OcBzi"
      }
    },
    {
      "cell_type": "code",
      "source": [
        "print('Number of duplicated', df.duplicated().sum())\n",
        "print('Number of nan', df.isnull().sum().sum())"
      ],
      "metadata": {
        "colab": {
          "base_uri": "https://localhost:8080/"
        },
        "id": "bOeKX9q-cDsp",
        "outputId": "a2c922c1-998b-45cc-a4eb-d43233f4e7d9"
      },
      "execution_count": null,
      "outputs": [
        {
          "output_type": "stream",
          "name": "stdout",
          "text": [
            "Number of duplicated 0\n",
            "Number of nan 0\n"
          ]
        }
      ]
    },
    {
      "cell_type": "code",
      "source": [
        "# Dividir datos\n",
        "X = df.drop('Bankruptcy', axis=1)\n",
        "y = df['Bankruptcy']"
      ],
      "metadata": {
        "id": "z9keWl9QcKlS"
      },
      "execution_count": null,
      "outputs": []
    },
    {
      "cell_type": "code",
      "source": [
        "def display_correlation_matrix(corr_matrix):\n",
        "    plt.figure(figsize=(20, 16))  # Adjust the size as needed\n",
        "    sns.heatmap(corr_matrix, annot=False, cmap='coolwarm', linewidths=.5, mask=np.triu(corr_matrix, k=1))\n",
        "    plt.title('Correlation Matrix for Features')\n",
        "    plt.show()\n",
        "\n",
        "corr_matrix = X.corr()\n",
        "display_correlation_matrix(corr_matrix)"
      ],
      "metadata": {
        "id": "3ZFjqotVcRuL"
      },
      "execution_count": null,
      "outputs": []
    },
    {
      "cell_type": "code",
      "source": [
        "# Revisar variables con mayor y menor correlación\n",
        "corr_matrix = X.corr()\n",
        "\n",
        "mask = np.triu(np.ones_like(corr_matrix, dtype=bool), k=1)\n",
        "\n",
        "# Extract the upper triangle values as a series\n",
        "upper_tri_series = corr_matrix.where(mask).stack()\n",
        "# Exclude values of 1\n",
        "upper_tri_series = upper_tri_series[upper_tri_series != 1]\n",
        "print(\"Top 10 positive correlations:\")\n",
        "print(upper_tri_series.abs().sort_values(ascending=False).head(10))\n",
        "print(\"\\nTop 10 negative correlations:\")\n",
        "print(upper_tri_series.abs().sort_values(ascending=False).tail(10).sort_values(ascending=True))"
      ],
      "metadata": {
        "id": "brsqmy6UcaJL"
      },
      "execution_count": null,
      "outputs": []
    },
    {
      "cell_type": "code",
      "source": [
        "# Eliminar variables altamente correlacionadas\n",
        "def remove_highly_correlated_features(corr_matrix, threshold=0.9):\n",
        "    # Create a boolean mask for the upper triangle of the correlation matrix\n",
        "    upper_tri = corr_matrix.where(np.triu(np.ones(corr_matrix.shape), k=1).astype(bool))\n",
        "\n",
        "    # Find index of feature columns with correlation greater than threshold\n",
        "    to_drop = [column for column in upper_tri.columns if any(upper_tri[column] > threshold)]\n",
        "\n",
        "    return to_drop\n",
        "\n",
        "features_to_drop = remove_highly_correlated_features(corr_matrix, threshold=0.9)\n",
        "\n",
        "print(f\"Features to drop: {features_to_drop}\")\n",
        "\n",
        "X = X.drop(features_to_drop, axis=1)\n",
        "\n",
        "print(f\"New shape of X: {X.shape}\")"
      ],
      "metadata": {
        "id": "Mccei4TCdOHC"
      },
      "execution_count": null,
      "outputs": []
    },
    {
      "cell_type": "code",
      "source": [
        "# Revisar nuevas correlaciones\n",
        "corr_matrix = X.corr()\n",
        "display_correlation_matrix(corr_matrix)"
      ],
      "metadata": {
        "id": "HixdXtgtdl8S"
      },
      "execution_count": null,
      "outputs": []
    },
    {
      "cell_type": "code",
      "source": [
        "y.value_counts().plot(kind='bar', title='Distribución bancarrota', color=['blue', 'red'], alpha=0.6, rot=0)\n",
        "plt.show()\n",
        "print('Compañías en bancarrota', y.value_counts()[1])\n",
        "print('Compañías que no cayeron en bancarrota', y.value_counts()[0])\n",
        "print('Ratio de compañías en bancarrota', y.value_counts()[1] / y.value_counts()[0])"
      ],
      "metadata": {
        "id": "ytfyr20edvIu"
      },
      "execution_count": null,
      "outputs": []
    },
    {
      "cell_type": "markdown",
      "source": [
        "En la gráfica anterior se puede observar que los datos están muy sesgados hacia las empresas que no están en quiebra.\n",
        "Esto podría generar un mayor sesgo, prediciendo con mayor frecuencia la clase mayoritaria, lo cual puede generar una alta precisión, pero un bajo poder predictivo para la clase minoritaria.\n",
        "\n",
        "Para corregir lo anterior, más adelante se buscará balancear un poco la clase minoritaria."
      ],
      "metadata": {
        "id": "oHD4xpV6eRMv"
      }
    },
    {
      "cell_type": "code",
      "source": [
        "X_train, X_test, y_train, y_test = train_test_split(X, y, test_size=0.2, random_state=42)\n",
        "\n",
        "print('Train set:', len(X_train), len(X_train) / len(X_train) + len(X_test))\n",
        "print('Test set:', len(X_test), len(X_test) / len(X_train) + len(X_test))"
      ],
      "metadata": {
        "id": "DjAvRAqhelvS"
      },
      "execution_count": null,
      "outputs": []
    },
    {
      "cell_type": "markdown",
      "source": [
        "Ahora, para balancear las clases se usará SMOTE, que sirve para crear nuevas muestras de la clase minoritaria para que el modelo no se sesgue hacia la clase mayoritaria. Esto se hará únicamente para el set de entrenamiento."
      ],
      "metadata": {
        "id": "6hoYECWNfTnm"
      }
    },
    {
      "cell_type": "code",
      "source": [
        "print('Antes', y_train.value_counts())\n",
        "print('Ratio de compañías en bancarrota:', y_train.value_counts()[1] / y_train.value_counts()[0])\n",
        "\n",
        "smote = SMOTE(random_state=42)\n",
        "X_train_smote, y_train_smote = smote.fit_resample(X_train, y_train)\n",
        "\n",
        "print('SMOTE train set:', y_train_smote.value_counts())\n",
        "print('Ratio de compañías en bancarrota:', y_train_smote.value_counts()[1] / y_train_smote.value_counts()[0])"
      ],
      "metadata": {
        "id": "AGoE9-d_fZwS"
      },
      "execution_count": null,
      "outputs": []
    },
    {
      "cell_type": "code",
      "source": [
        "# Estandarizar X\n",
        "scaler = StandardScaler()\n",
        "X_train_scaled = scaler.fit_transform(X_train_smote)\n",
        "\n",
        "X_test_scaled = scaler.transform(X_test)"
      ],
      "metadata": {
        "id": "Y363K4ijgGW3"
      },
      "execution_count": null,
      "outputs": []
    },
    {
      "cell_type": "markdown",
      "source": [
        "## Análisis de componentes proncipales"
      ],
      "metadata": {
        "id": "XeMtVugLga0y"
      }
    },
    {
      "cell_type": "markdown",
      "source": [
        "Se usará PCA para reducir la dimensionalidad en los datos"
      ],
      "metadata": {
        "id": "OMq1bJxrgi6D"
      }
    },
    {
      "cell_type": "code",
      "source": [
        "pca = PCA(n_components=0.90) # retener el 90% de la varianza\n",
        "X_train_pca = pca.fit_transform(X_train_scaled)\n",
        "X_test_pca = pca.transform(X_test_scaled)\n",
        "\n",
        "\n",
        "number_of_components = pca.n_components_\n",
        "print('Número de componentes:', number_of_components)\n",
        "explained_variance_ratio = pca.explained_variance_ratio_\n",
        "cumulative_explained_variance_ratio = np.cumsum(explained_variance_ratio)"
      ],
      "metadata": {
        "id": "lNXlnss0gdvx"
      },
      "execution_count": null,
      "outputs": []
    },
    {
      "cell_type": "markdown",
      "source": [
        "A continuación, se muestra la varianza acumulada explicada por los componentes"
      ],
      "metadata": {
        "id": "PgvF9fX4hEx7"
      }
    },
    {
      "cell_type": "code",
      "source": [
        "plt.figure(figsize=(10, 6))\n",
        "plt.plot(range(1, len(explained_variance_ratio) + 1), explained_variance_ratio, label='Varianza explicada')\n",
        "plt.plot(range(1, len(cumulative_explained_variance_ratio) + 1), cumulative_explained_variance_ratio,\n",
        "            label='Varianza explicada acumulada')\n",
        "plt.axvline(number_of_components, color='red', linestyle='--')\n",
        "plt.xlabel('Número de componentes')\n",
        "plt.ylabel('Varianza')\n",
        "plt.legend()\n",
        "plt.grid()"
      ],
      "metadata": {
        "id": "RQFdfcnIhJov"
      },
      "execution_count": null,
      "outputs": []
    },
    {
      "cell_type": "markdown",
      "source": [
        "# Red neuronal simple"
      ],
      "metadata": {
        "id": "eKXhpj9whyPv"
      }
    },
    {
      "cell_type": "code",
      "source": [
        "simple_parameters = {\n",
        "    'hidden_layer_sizes': (10, 10, 10),\n",
        "    'activation': 'tanh',\n",
        "    'learning_rate_init': 0.01,\n",
        "    'max_iter': 1000,\n",
        "}"
      ],
      "metadata": {
        "id": "oYiVT9leh0Wy"
      },
      "execution_count": null,
      "outputs": []
    },
    {
      "cell_type": "code",
      "source": [
        "simple_nn_classifier = MLPClassifier(**simple_parameters, random_state=42)\n",
        "\n",
        "simple_nn_classifier.fit(X_train_pca, y_train_smote)"
      ],
      "metadata": {
        "id": "Ma8SS3QNh22m"
      },
      "execution_count": null,
      "outputs": []
    },
    {
      "cell_type": "code",
      "source": [
        "simple_nn_test_score = simple_nn_classifier.score(X_test_pca, y_test)\n",
        "\n",
        "print('Simple Neural Network Test Score:', simple_nn_test_score)"
      ],
      "metadata": {
        "id": "ABrVIFZih5sO"
      },
      "execution_count": null,
      "outputs": []
    },
    {
      "cell_type": "code",
      "source": [
        "from sklearn.metrics import roc_auc_score\n",
        "\n",
        "# 1. Obtener probabilidades de predicción para la clase positiva (probabilidades, no etiquetas)\n",
        "y_pred_proba = simple_nn_classifier.predict_proba(X_test_pca)[:, 1]\n",
        "\n",
        "# 2. Calcular el AUC\n",
        "auc_score = roc_auc_score(y_test, y_pred_proba)\n",
        "\n",
        "# 3. Imprimir\n",
        "print('AUC en el conjunto de prueba:', auc_score)"
      ],
      "metadata": {
        "id": "osxcEh2oiUd-"
      },
      "execution_count": null,
      "outputs": []
    },
    {
      "cell_type": "markdown",
      "source": [
        "## Calibrar parámetros"
      ],
      "metadata": {
        "id": "XbkDNbkWiX9G"
      }
    },
    {
      "cell_type": "code",
      "source": [
        "param_grid = {\n",
        "    'hidden_layer_sizes': [(50, 50, 50), (100, 100, 100), (300, 300, 300)],\n",
        "    'activation': ['tanh', 'relu', 'softmax', 'sigmoid'],\n",
        "    'learning_rate_init': [0.01, 0.1],\n",
        "    'max_iter': [500],\n",
        "    'alpha': [0.0001, 0.001, 0.01], # L2 penalty (regularization term) parameter\n",
        "    'solver': ['lbfgs', 'adam', 'sgd'], # The solver for weight optimization\n",
        "}"
      ],
      "metadata": {
        "id": "-rWQrMJgiavS"
      },
      "execution_count": null,
      "outputs": []
    },
    {
      "cell_type": "code",
      "source": [
        "randomised_search_nn_classifier = RandomizedSearchCV(estimator=simple_nn_classifier, param_distributions=param_grid, n_iter=20, n_jobs=-1)\n",
        "\n",
        "randomised_search_nn_classifier.fit(X_train_pca, y_train_smote)\n",
        "\n",
        "best_params_nn_classifier = randomised_search_nn_classifier.best_params_\n",
        "\n",
        "print('Best parameters neural network classifier:', best_params_nn_classifier)"
      ],
      "metadata": {
        "id": "B8YTQN10ijwK"
      },
      "execution_count": null,
      "outputs": []
    },
    {
      "cell_type": "code",
      "source": [
        "tuned_nn_classifier = MLPClassifier(**best_params_nn_classifier, random_state=42)\n",
        "\n",
        "tuned_nn_classifier.fit(X_train_pca, y_train_smote)\n",
        "\n",
        "tuned_nn_test_score = tuned_nn_classifier.score(X_test_pca, y_test)\n",
        "\n",
        "print('Tuned Neural Network Test Score:', tuned_nn_test_score)"
      ],
      "metadata": {
        "id": "Rd2PR8zSjfvP"
      },
      "execution_count": null,
      "outputs": []
    },
    {
      "cell_type": "code",
      "source": [
        "# 1. Obtener probabilidades de predicción para la clase positiva (probabilidades, no etiquetas)\n",
        "y_pred_2 = tuned_nn_classifier.predict_proba(X_test_pca)[:, 1]\n",
        "\n",
        "# 2. Calcular el AUC\n",
        "auc_score = roc_auc_score(y_test, y_pred_2)\n",
        "\n",
        "# 3. Imprimir\n",
        "print('AUC en el conjunto de prueba:', auc_score)"
      ],
      "metadata": {
        "id": "WNc4EBQ5jr41"
      },
      "execution_count": null,
      "outputs": []
    },
    {
      "cell_type": "markdown",
      "source": [
        "# Predicciones"
      ],
      "metadata": {
        "id": "JkQp8sRmj3vL"
      }
    },
    {
      "cell_type": "code",
      "source": [
        "df_test=pd.read_csv(\"test_data.csv\", index_col=0)"
      ],
      "metadata": {
        "id": "afitDgzGkQ_P"
      },
      "execution_count": null,
      "outputs": []
    },
    {
      "cell_type": "code",
      "source": [
        "# Eliminamos las mismas columnas que se eliminaron en el conjunto de entrenamiento\n",
        "df_test = df_test.drop(columns=['No.credit.Interval', 'Working.Capital.Equity', 'Pre.tax.net.Interest.Rate',\n",
        "                                'After.tax.Net.Profit.Growth.Rate', 'Inventory.and.accounts.receivable.Net.value',\n",
        "                                'Continuous.interest.rate..after.tax.', 'Operating.Gross.Margin',\n",
        "                                'Operating.Profit.Growth.Rate', 'Cash.Flow.to.Liability'])"
      ],
      "metadata": {
        "id": "Ks5CN_P8m8g-"
      },
      "execution_count": null,
      "outputs": []
    },
    {
      "cell_type": "code",
      "source": [
        "# Escalar los datos (usando el mismo scaler que se usó para X_train)\n",
        "X_test_scaled = scaler.transform(df_test)"
      ],
      "metadata": {
        "id": "NR5SU5pBnBqy"
      },
      "execution_count": null,
      "outputs": []
    },
    {
      "cell_type": "code",
      "source": [
        "# Aplicar la misma transformación PCA al conjunto de test\n",
        "X_test_pca = pca.transform(X_test_scaled)"
      ],
      "metadata": {
        "id": "Ay286DGmprAz"
      },
      "execution_count": null,
      "outputs": []
    },
    {
      "cell_type": "code",
      "source": [
        "y_test_pred = tuned_nn_classifier.predict(X_test_pca)"
      ],
      "metadata": {
        "id": "dAAG0Mc4p2y2"
      },
      "execution_count": null,
      "outputs": []
    },
    {
      "cell_type": "code",
      "source": [
        "# Crear el DataFrame con las predicciones\n",
        "predicciones = pd.DataFrame({\n",
        "    'ID': df_test.index,           # Recupera el índice como ID\n",
        "    'Bankruptcy': y_test_pred      # Las clases predichas (0 o 1)\n",
        "})\n",
        "\n",
        "# Asegurar que el ID quede como índice si lo necesitás así\n",
        "predicciones.set_index('ID', inplace=True)\n",
        "\n",
        "# Mostrar las primeras filas\n",
        "print(predicciones.head())"
      ],
      "metadata": {
        "id": "d0CbgOVcuajT"
      },
      "execution_count": null,
      "outputs": []
    },
    {
      "cell_type": "code",
      "source": [
        "predicciones.to_csv('predicciones.csv')"
      ],
      "metadata": {
        "id": "rS3tp36euDwg"
      },
      "execution_count": null,
      "outputs": []
    }
  ]
}